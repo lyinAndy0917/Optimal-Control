{
 "cells": [
  {
   "cell_type": "markdown",
   "id": "99ce54b9",
   "metadata": {},
   "source": [
    "Fill out project proposal form: [https://forms.gle/NcbaNHSeNjTQa4e58](https://forms.gle/NcbaNHSeNjTQa4e58)"
   ]
  }
 ],
 "metadata": {
  "kernelspec": {
   "display_name": "Julia 1.10.8",
   "language": "julia",
   "name": "julia-1.10"
  },
  "language_info": {
   "file_extension": ".jl",
   "mimetype": "application/julia",
   "name": "julia",
   "version": "1.10.8"
  }
 },
 "nbformat": 4,
 "nbformat_minor": 5
}
